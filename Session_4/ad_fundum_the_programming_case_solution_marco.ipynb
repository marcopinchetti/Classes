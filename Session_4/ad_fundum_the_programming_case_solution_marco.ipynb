{
 "cells": [
  {
   "cell_type": "markdown",
   "metadata": {},
   "source": [
    "# Ad fundum!"
   ]
  },
  {
   "cell_type": "markdown",
   "metadata": {},
   "source": [
    "This notebook has three purposes: \n",
    "1. Learning to use exceptions as part of a normal program workflow\n",
    "2. Getting acquainted with recursive function\n",
    "3. Introducing those of you who are not from Belgium with the tradition of Ad Fundum (I'm sure it exists in every country but the Belgian way is probably slightly different)"
   ]
  },
  {
   "cell_type": "markdown",
   "metadata": {},
   "source": [
    "## The ULB way"
   ]
  },
  {
   "cell_type": "markdown",
   "metadata": {},
   "source": [
    "In this notebook, we are going to build a small system that enables you to hone your ad fundum skills from the comfort of your own house. For that, we will use a set of functions that call one another and time the whole process.\n",
    "\n",
    "The ad fundum is a student... let's call it ritual that goes more or less like this:\n",
    "\n",
    "* One person challenges another at ad fundum, the other usually agrees. They go and pick up a beer or a beverage each. A referee is appointed (in our case, the referee is the program we write and the only adversary in our case is ourself).\n",
    "* The referee asks the two contestants whether they are ready. Once it is the case, she pronounces the following formula: \"À main, à bouche, à cul, nom de dieu!\" (loosely translated, it means \"To the hand, to the mouth, to the bottom, for god's sake\"). Of course, I assume that in catholic universities, they drop the last part so our program should let the player decides if she wants to see this. Also, the word \"cul\" is somewhat vulgar in French and our program should be family friendly (with the difference that, if children want to play, they should drink a non-alcoholic beverage but the program cannot control that, now, can it?). The player should be able to decide if she wants to see the full word or the cleaner \"c\\*\\*\".\n",
    "* Once the referee has pronouced the formula, both contestants have to chug their beer (or their beverage) as fast as possible. For some reason, bystanders usually shout \"et glou\" (which in English would sounds something like \"hay glue\" and which is supposed to mimick the sound of somebody drinking) regularly, so we'll emulate that as well.\n",
    "* Once the first of the player is done with her glass (or whatever container she's drinking from), she's declared the winner and go on to enjoy the rest of the evening (or directly to do another ad fundum).\n"
   ]
  },
  {
   "cell_type": "markdown",
   "metadata": {},
   "source": [
    "## The program"
   ]
  },
  {
   "cell_type": "markdown",
   "metadata": {},
   "source": [
    "So basically, our program is a glorified timer: it writes the ritual formula, starts a timer and then repeatedly writes \"et glou\" on the screen until the player kill it by hand (meaning by clicking on the little \"stop\" sign on the top of the notebook. This is not something normal for the program: it is an exception and it can be captured in the logic of the code to treat it accordingly (by default, it kills the whole program but in our case, we just want to use it to stop the never-ending stream of \"et glou\").\n",
    "\n",
    "Before getting down to business, there are two functions that we could see:"
   ]
  },
  {
   "cell_type": "code",
   "execution_count": 91,
   "metadata": {
    "collapsed": false,
    "jupyter": {
     "outputs_hidden": false
    }
   },
   "outputs": [
    {
     "name": "stdout",
     "output_type": "stream",
     "text": [
      "Help on built-in function sleep in module time:\n",
      "\n",
      "sleep(...)\n",
      "    sleep(seconds)\n",
      "    \n",
      "    Delay execution for a given number of seconds.  The argument may be\n",
      "    a floating point number for subsecond precision.\n",
      "\n"
     ]
    }
   ],
   "source": [
    "import time # Yes, in Python, you can import time itself! God-feeling, much?\n",
    "\n",
    "help(time.sleep)"
   ]
  },
  {
   "cell_type": "code",
   "execution_count": 92,
   "metadata": {
    "collapsed": false,
    "jupyter": {
     "outputs_hidden": false
    }
   },
   "outputs": [
    {
     "name": "stdout",
     "output_type": "stream",
     "text": [
      "Help on built-in function time in module time:\n",
      "\n",
      "time(...)\n",
      "    time() -> floating point number\n",
      "    \n",
      "    Return the current time in seconds since the Epoch.\n",
      "    Fractions of a second may be present if the system clock provides them.\n",
      "\n"
     ]
    }
   ],
   "source": [
    "help(time.time)"
   ]
  },
  {
   "cell_type": "code",
   "execution_count": 93,
   "metadata": {
    "collapsed": false,
    "jupyter": {
     "outputs_hidden": false
    }
   },
   "outputs": [
    {
     "name": "stdout",
     "output_type": "stream",
     "text": [
      "This took  2.000560998916626  seconds\n"
     ]
    }
   ],
   "source": [
    "start = time.time()\n",
    "time.sleep(2)\n",
    "finish = time.time()\n",
    "print(\"This took \", finish - start, \" seconds\")"
   ]
  },
  {
   "cell_type": "markdown",
   "metadata": {},
   "source": [
    "## The formula"
   ]
  },
  {
   "cell_type": "markdown",
   "metadata": {},
   "source": [
    "The first step of this exercise is to create a function that put the initial formula. It should be a function that takes 2 arguments and returns nothing. The two arguments should be two Boolean: the first one, called *parental_version* will be True if we must print \"c\\*\\*\" instead of \"cul\" and the other parameter, called *gods_sake* will also be a Boolean and will be True if we have to take out the mention to God's sake.\n",
    "\n",
    "Write this function here below:"
   ]
  },
  {
   "cell_type": "code",
   "execution_count": 5,
   "metadata": {
    "collapsed": false,
    "jupyter": {
     "outputs_hidden": false
    }
   },
   "outputs": [
    {
     "name": "stdout",
     "output_type": "stream",
     "text": [
      "\n",
      "Do you want to play the parental or the explicit version? Type 1 for parental and 0 for explicit.\n"
     ]
    },
    {
     "name": "stdin",
     "output_type": "stream",
     "text": [
      " 1\n"
     ]
    },
    {
     "name": "stdout",
     "output_type": "stream",
     "text": [
      "\n",
      "Your answer is 1.\n",
      "You'll have the parental version. Boring!\n",
      "\n",
      "Do you want to play the catholic-friendly or the libre version? Type 1 for catholic-friendly and 0 for the libre version.\n"
     ]
    },
    {
     "name": "stdin",
     "output_type": "stream",
     "text": [
      " 1\n"
     ]
    },
    {
     "name": "stdout",
     "output_type": "stream",
     "text": [
      "\n",
      "Your answer is 1.\n",
      "You'll have the catholic version. May the L**d be with you!\n",
      "\n",
      "We're all set now!\n",
      "\n",
      "À main, à bouche, à c*l, nom de d**u!\n",
      "\n"
     ]
    }
   ],
   "source": [
    "def first_step():\n",
    "    print('Do you want to play the parental or the explicit version? Type 1 for parental and 0 for explicit.')\n",
    "    answer=input()\n",
    "    print('')\n",
    "    if answer=='1':\n",
    "        version='parental'   \n",
    "        print(f\"Your answer is {answer}.\")        \n",
    "        print(\"You'll have the parental version. Boring!\")\n",
    "    elif answer=='0':\n",
    "        version='explicit'\n",
    "        print(f\"Your answer is {answer}.\")        \n",
    "        print(\"Wow you're a badass! Let's play the explicit version!\")\n",
    "    else:\n",
    "        print('This answer is invalid! Try again.')\n",
    "        print('')      \n",
    "        first_step()\n",
    "    print('')      \n",
    "    return answer\n",
    "\n",
    "def second_step():\n",
    "    print('Do you want to play the catholic-friendly or the libre version? Type 1 for catholic-friendly and 0 for the libre version.')\n",
    "    answer=input()\n",
    "    print('')\n",
    "    if answer=='1':\n",
    "        version='catholic'   \n",
    "        print(f\"Your answer is {answer}.\")        \n",
    "        print(\"You'll have the catholic version. May the L**d be with you!\")\n",
    "    elif answer=='0':\n",
    "        version='libre'\n",
    "        print(f\"Your answer is {answer}.\")        \n",
    "        print(\"You chose the *God's sake* version. We are at ULB after all!\")\n",
    "    else:\n",
    "        print('This answer is invalid! Try again.')\n",
    "        print('')      \n",
    "        second_step()\n",
    "    print('')      \n",
    "    return answer\n",
    "print('')  \n",
    "\n",
    "def third_step():\n",
    "    print(\"We're all set now!\")\n",
    "    print('')  \n",
    "    if parental_version=='0' and gods_sake=='0':\n",
    "        print(\"À main, à bouche, à cul, nom de dieu!\")\n",
    "    elif parental_version=='0' and gods_sake=='1':\n",
    "        print(\"À main, à bouche, à cul, nom de d**u!\")\n",
    "    elif parental_version=='1' and gods_sake=='0':\n",
    "        print(\"À main, à bouche, à c*l, nom de dieu!\")\n",
    "    elif parental_version=='1' and gods_sake=='1':\n",
    "        print(\"À main, à bouche, à c*l, nom de d**u!\")\n",
    "    print('')  \n",
    "\n",
    "\n",
    "parental_version=first_step()\n",
    "gods_sake=second_step()      \n",
    "third_step()      \n",
    "\n",
    "\n",
    "\n"
   ]
  },
  {
   "cell_type": "markdown",
   "metadata": {},
   "source": [
    "## Et glou"
   ]
  },
  {
   "cell_type": "markdown",
   "metadata": {},
   "source": [
    "We are now going to write a function that takes 1 argument (an integer), lets call it *x*,  but do three things sequentially:\n",
    "1. Print the infamous \"Et glou\" to the screen.\n",
    "2. Sleep for *x* number of seconds\n",
    "3. Call the function itself"
   ]
  },
  {
   "cell_type": "code",
   "execution_count": 7,
   "metadata": {},
   "outputs": [
    {
     "name": "stdout",
     "output_type": "stream",
     "text": [
      "et glou!\n"
     ]
    },
    {
     "ename": "NameError",
     "evalue": "name 'time' is not defined",
     "output_type": "error",
     "traceback": [
      "\u001b[0;31m---------------------------------------------------------------------------\u001b[0m",
      "\u001b[0;31mNameError\u001b[0m                                 Traceback (most recent call last)",
      "\u001b[0;32m<ipython-input-7-9ef550144cea>\u001b[0m in \u001b[0;36m<module>\u001b[0;34m\u001b[0m\n\u001b[1;32m      5\u001b[0m \u001b[0;34m\u001b[0m\u001b[0m\n\u001b[1;32m      6\u001b[0m \u001b[0msec\u001b[0m\u001b[0;34m=\u001b[0m\u001b[0;36m1\u001b[0m\u001b[0;34m\u001b[0m\u001b[0;34m\u001b[0m\u001b[0m\n\u001b[0;32m----> 7\u001b[0;31m \u001b[0metglou\u001b[0m\u001b[0;34m(\u001b[0m\u001b[0msec\u001b[0m\u001b[0;34m)\u001b[0m\u001b[0;34m\u001b[0m\u001b[0;34m\u001b[0m\u001b[0m\n\u001b[0m",
      "\u001b[0;32m<ipython-input-7-9ef550144cea>\u001b[0m in \u001b[0;36metglou\u001b[0;34m(sec)\u001b[0m\n\u001b[1;32m      1\u001b[0m \u001b[0;32mdef\u001b[0m \u001b[0metglou\u001b[0m\u001b[0;34m(\u001b[0m\u001b[0msec\u001b[0m\u001b[0;34m)\u001b[0m\u001b[0;34m:\u001b[0m\u001b[0;34m\u001b[0m\u001b[0;34m\u001b[0m\u001b[0m\n\u001b[1;32m      2\u001b[0m     \u001b[0mprint\u001b[0m\u001b[0;34m(\u001b[0m\u001b[0;34m'et glou!'\u001b[0m\u001b[0;34m)\u001b[0m\u001b[0;34m\u001b[0m\u001b[0;34m\u001b[0m\u001b[0m\n\u001b[0;32m----> 3\u001b[0;31m     \u001b[0mtime\u001b[0m\u001b[0;34m.\u001b[0m\u001b[0msleep\u001b[0m\u001b[0;34m(\u001b[0m\u001b[0msec\u001b[0m\u001b[0;34m)\u001b[0m\u001b[0;34m\u001b[0m\u001b[0;34m\u001b[0m\u001b[0m\n\u001b[0m\u001b[1;32m      4\u001b[0m     \u001b[0metglou\u001b[0m\u001b[0;34m(\u001b[0m\u001b[0msec\u001b[0m\u001b[0;34m)\u001b[0m\u001b[0;34m\u001b[0m\u001b[0;34m\u001b[0m\u001b[0m\n\u001b[1;32m      5\u001b[0m \u001b[0;34m\u001b[0m\u001b[0m\n",
      "\u001b[0;31mNameError\u001b[0m: name 'time' is not defined"
     ]
    }
   ],
   "source": [
    "def etglou(sec):\n",
    "    print('et glou!')\n",
    "    time.sleep(sec)\n",
    "    etglou(sec)\n",
    "\n",
    "sec=1  \n",
    "etglou(sec)"
   ]
  },
  {
   "cell_type": "markdown",
   "metadata": {},
   "source": [
    "![boum](https://i.ytimg.com/vi/LLpIMRowndg/maxresdefault.jpg)\n",
    "\n",
    "Whaaaat? A function that calls itself? Well, yes. It is called a [recursive function](http://algosaur.us/recursion/). Recursive functions are a fascinating topic that allow you to do many stuff. For example, certain languages do not have loop as using recursive functions can substitute any type of loop. A classical example of use of recursive function is to compute Fibonacci numbers.\n",
    "\n",
    "> \"To iterate is human, to recurse is divine\"\n",
    "> *L Peter Deutsch*\n",
    "\n",
    "OK, enough about recursion (although if you're into it, there is plenty to do and be said on the topic!). We actually need to modify slightly our function: if we let it as is, it will recurse until the end of time (or when the memory of your computer runs out). We need to implement a way to kill this list manually. As told before, we will implement the end of this loop as an Exception Handling problem: if the user tries to kill the program (by clicking on the square above), the exception will be capture and the function will return None, which will break the cycle. To do so, do wrap the whole body of your function in a *try* block and then in the *except* part, only capture the *KeyboardInterrupt* exception. If such an exception happen, just return *None*.\n",
    "\n",
    "Write the modified function below."
   ]
  },
  {
   "cell_type": "code",
   "execution_count": 115,
   "metadata": {
    "collapsed": false,
    "jupyter": {
     "outputs_hidden": false
    }
   },
   "outputs": [
    {
     "name": "stdout",
     "output_type": "stream",
     "text": [
      "et glou!\n",
      "et glou!\n",
      "et glou!\n",
      "et glou!\n",
      "et glou!\n",
      "et glou!\n",
      "et glou!\n",
      "et glou!\n",
      "et glou!\n",
      "et glou!\n",
      "et glou!\n",
      "et glou!\n",
      "et glou!\n",
      "et glou!\n",
      "\n",
      "Glasses down! The challenge is over.\n",
      "\n"
     ]
    }
   ],
   "source": [
    "def mod_etglou(sec):\n",
    "    try:\n",
    "        print('et glou!')\n",
    "        time.sleep(sec)\n",
    "        etglou(sec)\n",
    "    except:\n",
    "        print('')\n",
    "        print('Glasses down! The challenge is over.')\n",
    "        print('')\n",
    "\n",
    "sec=1  \n",
    "mod_etglou(sec)"
   ]
  },
  {
   "cell_type": "markdown",
   "metadata": {},
   "source": [
    "Now it's time to tie everything together. Create a final function, that takes three arguments (the *parental_control*, the *gods_sake* and the *time_sleeping*) and that does the following:\n",
    "\n",
    "1. Call the function that will print the ritual formula\n",
    "2. Create a *start* variable that contains the time at which the challenge starts\n",
    "3. Call the function that writes \"et glou\" recursively\n",
    "4. Create an *end* variable containing the time after your recursiv function ends\n",
    "5. Print the value of *end* - *start*"
   ]
  },
  {
   "cell_type": "code",
   "execution_count": 114,
   "metadata": {
    "collapsed": false,
    "jupyter": {
     "outputs_hidden": false
    }
   },
   "outputs": [
    {
     "name": "stdout",
     "output_type": "stream",
     "text": [
      "Do you want to play the parental or the explicit version? Type 1 for parental and 0 for explicit.\n"
     ]
    },
    {
     "name": "stdin",
     "output_type": "stream",
     "text": [
      " 1\n"
     ]
    },
    {
     "name": "stdout",
     "output_type": "stream",
     "text": [
      "\n",
      "Your answer is 1.\n",
      "You'll have the parental version. Boring!\n",
      "\n",
      "Do you want to play the catholic-friendly or the libre version? Type 1 for catholic-friendly and 0 for the libre.\n"
     ]
    },
    {
     "name": "stdin",
     "output_type": "stream",
     "text": [
      " 1\n"
     ]
    },
    {
     "name": "stdout",
     "output_type": "stream",
     "text": [
      "\n",
      "Your answer is 1.\n",
      "You'll have the catholic version. Boring!\n",
      "\n",
      "We're all set now!\n",
      "\n",
      "À main, à bouche, à c*l, nom de d**u!\n",
      "\n",
      "OK, now let's see whether you're a fast drinker or not. How many seconds between each sip?\n",
      "\n"
     ]
    },
    {
     "name": "stdin",
     "output_type": "stream",
     "text": [
      " 1\n"
     ]
    },
    {
     "name": "stdout",
     "output_type": "stream",
     "text": [
      "et glou!\n",
      "et glou!\n",
      "et glou!\n",
      "et glou!\n",
      "et glou!\n",
      "et glou!\n",
      "et glou!\n",
      "et glou!\n",
      "et glou!\n",
      "et glou!\n",
      "et glou!\n",
      "et glou!\n",
      "et glou!\n",
      "et glou!\n",
      "et glou!\n",
      "et glou!\n",
      "et glou!\n",
      "\n",
      "Glasses down! The challenge is over.\n",
      "\n",
      "Game over, go to bed now kids! The game lasted for 20 seconds.\n"
     ]
    }
   ],
   "source": [
    "def sleeping_time():\n",
    "    print(\"OK, now let's see whether you're a fast drinker or not. How many seconds between each sip?\")\n",
    "    print('')\n",
    "    sec=input()\n",
    "    return sec\n",
    "    \n",
    "def etglue_challenge():\n",
    "    start = time.time()\n",
    "    first_step()\n",
    "    second_step()\n",
    "    third_step()\n",
    "    sec=int(sleeping_time())\n",
    "    mod_etglou(sec)\n",
    "    end = time.time()\n",
    "    print(f\"Game over, go to bed now kids! The game lasted for {round(end-start)} seconds.\")\n",
    "\n",
    "etglue_challenge()"
   ]
  },
  {
   "cell_type": "markdown",
   "metadata": {},
   "source": [
    "That's it, you can now train your ad fundum skills from home. Drink responsibly. Prosit!"
   ]
  }
 ],
 "metadata": {
  "kernelspec": {
   "display_name": "Python 3",
   "language": "python",
   "name": "python3"
  },
  "language_info": {
   "codemirror_mode": {
    "name": "ipython",
    "version": 3
   },
   "file_extension": ".py",
   "mimetype": "text/x-python",
   "name": "python",
   "nbconvert_exporter": "python",
   "pygments_lexer": "ipython3",
   "version": "3.7.4"
  },
  "name": "exercises_4_bis_using_exceptions.ipynb"
 },
 "nbformat": 4,
 "nbformat_minor": 4
}
