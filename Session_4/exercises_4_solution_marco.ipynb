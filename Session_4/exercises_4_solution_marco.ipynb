{
 "cells": [
  {
   "cell_type": "markdown",
   "metadata": {},
   "source": [
    "# It gets loopy"
   ]
  },
  {
   "cell_type": "markdown",
   "metadata": {},
   "source": [
    "In this notebook, we will work with stock prices. I'll get you started by writing some code that go and fetch the last quotes of a few American stocks. We will then write loops and functions to do two things:\n",
    "\n",
    "1. Evaluate the performance of an investing strategy on past data\n",
    "2. Infer the possible performance of the same strategy on short-run future data"
   ]
  },
  {
   "cell_type": "markdown",
   "metadata": {},
   "source": [
    "## Setup"
   ]
  },
  {
   "cell_type": "markdown",
   "metadata": {},
   "source": [
    "We start by importing the quotes. It is not crucial to understand the code here below as we will see what a call to an API is during a future session. It works broadly like this: we call a server that sends us back a kind of nested dictionaries and lists that contain the quotes and date of those quotes for the 5 largest tech firms (that are sometimes referred to as GAFAM)."
   ]
  },
  {
   "cell_type": "code",
   "execution_count": 1,
   "metadata": {},
   "outputs": [],
   "source": [
    "from requests import get \n",
    "stock_quotes = {}\n",
    "# defines an empty dictionary/set\n",
    "\n",
    "tickers = {\"GOOG\" : \"Google\", \"AAPL\" : \"Apple\", \"FB\": \"Facebook\", \"AMZN\" : \"Amazon\", \"MSFT\": \"Microsoft\"}\n",
    "# defines a dictionary including Tickers and Stock Names\n",
    "\n",
    "for ticker in tickers: # for each key in the dictionary\n",
    "    \n",
    "    prices_and_dates = {} # create an empty set named prices_and_dates for each key of the dictionary\n",
    "    \n",
    "    query = \"https://financialmodelingprep.com/api/v3/historical-price-full/\"+ticker+\"?serietype=line\"\n",
    "    # defines the url from which we'll get the data\n",
    "    \n",
    "    histoire_des_prix = get(query).json()[\"historical\"]\n",
    "    # this query downloads a dataset including quotes and dates\n",
    "    # json is the format of the data\n",
    "    \n",
    "    prices_and_dates[\"quotes\"] = [cours[\"close\"] for cours in histoire_des_prix[-31:]]\n",
    "    prices_and_dates[\"dates\"] = [cours[\"date\"] for cours in histoire_des_prix[-31:]]\n",
    "    # these two commands store the quotes (end of the day) and dates of the last 30 days for the aforementioned stocks\n",
    "    \n",
    "    stock_quotes[ticker] = prices_and_dates\n",
    "    # stores the downloaded data into the previously defined set\n",
    "    "
   ]
  },
  {
   "cell_type": "markdown",
   "metadata": {},
   "source": [
    "Run the cell above: it will run for some time and then ends without showing anything. In fact, it loads a peculiar data structure in the memory of your computer. The structure consists in prices and dates contained inside a dictionary which is itself contained in a dictionary. It is kind of a lousy structure so far but we will see in next sessions (the pandas one) how to make it easier. For now, we have to rely on this awkward structure. Here are some example of how to use it."
   ]
  },
  {
   "cell_type": "code",
   "execution_count": 2,
   "metadata": {},
   "outputs": [
    {
     "name": "stdout",
     "output_type": "stream",
     "text": [
      "[1439.2, 1451.7, 1480.39, 1484.4, 1485.95, 1486.65, 1466.71, 1433.9, 1452.56, 1458.63, 1455.84, 1434.23, 1485.94, 1447.07, 1448.23, 1476.23, 1479.23, 1508.68, 1508.79, 1518.27, 1514.66, 1520.74, 1519.67, 1526.69, 1518.15, 1485.11, 1421.59, 1388.45, 1393.18, 1318.09, 1339.33]\n",
      "[1, 2, 3, 4, 5, 6, 7, 8, 9, 10, 11, 12, 13, 14, 15, 16, 17, 18, 19, 20, 21, 22, 23, 24, 25, 26, 27, 28, 29, 30, 31]\n"
     ]
    }
   ],
   "source": [
    "# Show all prices for Google\n",
    "y=stock_quotes[\"GOOG\"][\"quotes\"]\n",
    "print(y)\n",
    "x = list(range(1,len(y)+1))\n",
    "print(x)"
   ]
  },
  {
   "cell_type": "code",
   "execution_count": null,
   "metadata": {},
   "outputs": [],
   "source": [
    "import matplotlib.pyplot as plt # install the data visualization package"
   ]
  },
  {
   "cell_type": "code",
   "execution_count": 9,
   "metadata": {},
   "outputs": [
    {
     "data": {
      "image/png": "[encoded data removed]",
      "text/plain": [
       "<Figure size 432x288 with 1 Axes>"
      ]
     },
     "metadata": {
      "needs_background": "light"
     },
     "output_type": "display_data"
    }
   ],
   "source": [
    "\n",
    "y = stock_quotes[\"GOOG\"][\"quotes\"] \n",
    "plt.plot(x, y)\n",
    "plt.show()"
   ]
  },
  {
   "cell_type": "code",
   "execution_count": 10,
   "metadata": {
    "collapsed": false,
    "jupyter": {
     "outputs_hidden": false
    }
   },
   "outputs": [
    {
     "name": "stdout",
     "output_type": "stream",
     "text": [
      "273.36\n"
     ]
    }
   ],
   "source": [
    "# Show the price of the Apple closing quote yesterday\n",
    "print(stock_quotes[\"AAPL\"][\"quotes\"][-1])\n"
   ]
  },
  {
   "cell_type": "code",
   "execution_count": 11,
   "metadata": {
    "collapsed": false,
    "jupyter": {
     "outputs_hidden": false
    }
   },
   "outputs": [
    {
     "name": "stdout",
     "output_type": "stream",
     "text": [
      "2020-01-17\n"
     ]
    }
   ],
   "source": [
    "# What is the date of the third quote for the Microsoft data?\n",
    "print(stock_quotes[\"MSFT\"][\"dates\"][2])"
   ]
  },
  {
   "cell_type": "markdown",
   "metadata": {},
   "source": [
    "## Let's work"
   ]
  },
  {
   "cell_type": "markdown",
   "metadata": {},
   "source": [
    "OK, enough playing around! Now is your turn: Let's start by stretching our programming muscles. I'll write a line that will create a new variable called *quotes_amazon* and that is a list that contains the quotes of Amazon (in dollars) for all the data we have.\n",
    "\n",
    "Your job is to create a new list, called *quotes_amazon_euro* in which you will store the quotes but in Euros (for this exercise, it is enough to consider that converting to Euros just means multiplying by *0.9* - please applied trade economists, don't crucify me for this approximation)."
   ]
  },
  {
   "cell_type": "code",
   "execution_count": 12,
   "metadata": {
    "collapsed": false,
    "jupyter": {
     "outputs_hidden": false
    }
   },
   "outputs": [
    {
     "name": "stdout",
     "output_type": "stream",
     "text": [
      "[1675.82, 1690.15, 1678.25, 1702.8, 1698.71, 1696.12, 1675.48, 1645.51, 1667.92, 1672.2, 1683.61, 1807.85, 1803.78, 1844.7, 1835.88, 1845.21, 1871.35, 1920.52, 1935.72, 1944.0, 1934.88, 1921.38, 1940.1, 1953.2, 1937.79, 1886.37, 1808.36, 1775.47, 1781.63, 1695.87, 1695.38]\n",
      "[1675.82, 1690.15, 1678.25, 1702.8, 1698.71, 1696.12, 1675.48, 1645.51, 1667.92, 1672.2, 1683.61, 1807.85, 1803.78, 1844.7, 1835.88, 1845.21, 1871.35, 1920.52, 1935.72, 1944.0, 1934.88, 1921.38, 1940.1, 1953.2, 1937.79, 1886.37, 1808.36, 1775.47, 1781.63, 1695.87, 1695.38]\n"
     ]
    }
   ],
   "source": [
    "quotes_amazon = stock_quotes[\"AMZN\"][\"quotes\"]\n",
    "\n",
    "# Your code comes below this line\n",
    "\n",
    "# extended way\n",
    "quotes_amazon_euro = []\n",
    "for quote in quotes_amazon:\n",
    "        quotes_amazon_euro.append(round(quote * 0.9,2))\n",
    "print(quotes_amazon_euro)\n",
    "\n",
    "# compact way\n",
    "quotes_amazon_euro = [round(quote * 0.9,2) for quote in quotes_amazon]\n",
    "print(quotes_amazon_euro)\n"
   ]
  },
  {
   "cell_type": "markdown",
   "metadata": {},
   "source": [
    "Done? Good! Now for a harder problem: We will create a function that will compute the mean of any list that is passed (provided it contains integers or floats, of course). The function will work broadly like this: You initialize a counter at 0, you loop over the list and, at each iteration, you add the value at that position to the counter. Once the loop is over, you divide this by the length of the list to obtain the average.\n",
    "\n",
    "Oddly enough, Python doesn't ship with a built-in mean function (it was not initially a scientific computing language). Implementing it is therefore needed to perform the next steps (in future session, we will see some libraries, the most important being Numpy, that provide implementation of means functions.\n",
    "\n",
    "Implement your function, call it my_mean and then see if it works on the list containing the prices of the Facebook stock (that will be stored in the variable *facebook_quotes*.\n",
    "\n",
    "*Don't forget that you must produce a **function**, it will be important because we will use it in the next part!*"
   ]
  },
  {
   "cell_type": "code",
   "execution_count": 13,
   "metadata": {
    "collapsed": false,
    "jupyter": {
     "outputs_hidden": false
    }
   },
   "outputs": [
    {
     "name": "stdout",
     "output_type": "stream",
     "text": [
      "Your function should produce the following result (plus ou minus numerical error):\t 211.4661290322581\n",
      "This is my Facebook mean computed via the loop: 211.46612903225812\n",
      "This is my Facebook mean computed via the inline fct: 211.46612903225812\n",
      "Bravo!\n"
     ]
    }
   ],
   "source": [
    "import numpy as np\n",
    "facebook_quotes = stock_quotes[\"FB\"][\"quotes\"]\n",
    "print(\"Your function should produce the following result (plus ou minus numerical error):\\t\"\n",
    "      , np.mean(facebook_quotes))\n",
    "\n",
    "charlesmean=np.mean(facebook_quotes)\n",
    "\n",
    "# Your code comes here below\n",
    "\n",
    "# go as in the instructions\n",
    "def my_mean_alpha(list):\n",
    "    sum=0\n",
    "    for i in list:\n",
    "        sum=sum+i\n",
    "    return(sum/len(list))\n",
    "  \n",
    "fb_mean=my_mean_alpha(stock_quotes[\"FB\"][\"quotes\"])\n",
    "print(f'This is my Facebook mean computed via the loop:',fb_mean)\n",
    "    \n",
    "# now do it faster\n",
    "my_mean = lambda list : sum(list)/len(list)\n",
    "fb_mean=my_mean(stock_quotes[\"FB\"][\"quotes\"])\n",
    "print(f'This is my Facebook mean computed via the inline fct:',fb_mean)\n",
    "\n",
    "# verify\n",
    "if round(fb_mean,2) == round(charlesmean,2):\n",
    "    print('Bravo!')\n",
    "else:\n",
    "    print('Nope! Check again!')"
   ]
  },
  {
   "cell_type": "markdown",
   "metadata": {},
   "source": [
    "Let's now build on top of what we did previously to build a function that computes the mobile average. Let's start by using a fix number of lags to be considered (you can always extend it later): We want to have a function that takes a list and produces a new list containing the average value of the three past value (you can either align the two list by setting the three first value of your result to *None* or not, this will impact the way you will have to solve the next exercises, but both ways will be equally practical). Test it on the Google quotes that are in the variable *google_quotes*."
   ]
  },
  {
   "cell_type": "code",
   "execution_count": 37,
   "metadata": {
    "collapsed": false,
    "jupyter": {
     "outputs_hidden": false
    }
   },
   "outputs": [
    {
     "name": "stdout",
     "output_type": "stream",
     "text": [
      "Here are the Google quotes:\n",
      "[1439.2, 1451.7, 1480.39, 1484.4, 1485.95, 1486.65, 1466.71, 1433.9, 1452.56, 1458.63, 1455.84, 1434.23, 1485.94, 1447.07, 1448.23, 1476.23, 1479.23, 1508.68, 1508.79, 1518.27, 1514.66, 1520.74, 1519.67, 1526.69, 1518.15, 1485.11, 1421.59, 1388.45, 1393.18, 1318.09, 1339.33]\n",
      "\n",
      "The series has 31 values\n",
      "\n",
      "here is my new moving average list\n",
      "[1457.1, 1472.16, 1483.58, 1485.67, 1479.77, 1462.42, 1451.06, 1448.36, 1455.68, 1449.57, 1458.67, 1455.75, 1460.41, 1457.18, 1467.9, 1488.05, 1498.9, 1511.91, 1513.91, 1517.89, 1518.36, 1522.37, 1521.5, 1509.98, 1474.95, 1431.72, 1401.07, 1366.57]\n",
      "\n",
      "The series has 28 values\n",
      "\n",
      "Give a look at how our MA series compares to the original Google Quotes series:\n"
     ]
    },
    {
     "data": {
      "image/png": "[encoded data removed]",
      "text/plain": [
       "<Figure size 432x288 with 1 Axes>"
      ]
     },
     "metadata": {
      "needs_background": "light"
     },
     "output_type": "display_data"
    }
   ],
   "source": [
    "google_quotes = stock_quotes[\"GOOG\"][\"quotes\"]\n",
    "\n",
    "# Your code comes here below\n",
    "\n",
    "def moving_avg_three(quotes): # we define a fct called moving_avg\n",
    "    elements=list(range(3,len(quotes))) # define a vector from the element p to the last element\n",
    "    newlist=[] # define an empty list\n",
    "    for element in elements: # from the element p to the last one\n",
    "            #print(quotes[element-3:element])\n",
    "            mov_avg=sum(quotes[element-3:element])/3 # the local average is equal to the local sum divided by p\n",
    "            newlist.append(round(mov_avg,2)) # add the newly calculated average to the newlist vector\n",
    "    return(newlist)\n",
    "\n",
    "print('Here are the Google quotes:')\n",
    "print(google_quotes)\n",
    "print('')\n",
    "print(f'The series has {len(google_quotes)} values')\n",
    "print('')\n",
    "movavg=moving_avg_three(google_quotes)\n",
    "#print('')\n",
    "print('here is my new moving average list')\n",
    "print(movavg)\n",
    "print('')\n",
    "print(f'The series has {len(movavg)} values')\n",
    "print('')\n",
    "print('Give a look at how our MA series compares to the original Google Quotes series:')\n",
    "x1 = list(range(1,len(movavg)+1))\n",
    "plt.plot(x1, movavg)\n",
    "#plt.show()\n",
    "#print('')\n",
    "#print('this is how it compares to the Google quotes:')\n",
    "x2 = list(range(1,len(google_quotes)+1))\n",
    "plt.plot(x2, google_quotes)\n",
    "plt.show()\n",
    "\n"
   ]
  },
  {
   "cell_type": "markdown",
   "metadata": {},
   "source": [
    "Now that we have done it for a fix number of lags, do it again but now allow for a second parameter to your function: the number of lags you want to consider for your moving average."
   ]
  },
  {
   "cell_type": "code",
   "execution_count": 38,
   "metadata": {
    "collapsed": false,
    "jupyter": {
     "outputs_hidden": false
    }
   },
   "outputs": [
    {
     "name": "stdout",
     "output_type": "stream",
     "text": [
      "Here are the Google quotes:\n",
      "[1439.2, 1451.7, 1480.39, 1484.4, 1485.95, 1486.65, 1466.71, 1433.9, 1452.56, 1458.63, 1455.84, 1434.23, 1485.94, 1447.07, 1448.23, 1476.23, 1479.23, 1508.68, 1508.79, 1518.27, 1514.66, 1520.74, 1519.67, 1526.69, 1518.15, 1485.11, 1421.59, 1388.45, 1393.18, 1318.09, 1339.33]\n",
      "\n",
      "The series has 31 values\n",
      "\n",
      "here is my new moving average list:\n",
      "[1457.1, 1472.16, 1483.58, 1485.67, 1479.77, 1462.42, 1451.06, 1448.36, 1455.68, 1449.57, 1458.67, 1455.75, 1460.41, 1457.18, 1467.9, 1488.05, 1498.9, 1511.91, 1513.91, 1517.89, 1518.36, 1522.37, 1521.5, 1509.98, 1474.95, 1431.72, 1401.07, 1366.57]\n",
      "\n",
      "The series has 28 values\n",
      "\n",
      "Give a look at how our MA series compares to the original Google Quotes series:\n"
     ]
    },
    {
     "data": {
      "image/png": "[encoded data removed]",
      "text/plain": [
       "<Figure size 432x288 with 1 Axes>"
      ]
     },
     "metadata": {
      "needs_background": "light"
     },
     "output_type": "display_data"
    }
   ],
   "source": [
    "google_quotes = stock_quotes[\"GOOG\"][\"quotes\"]\n",
    "\n",
    "# Your code comes here below\n",
    "p=3\n",
    "\n",
    "def moving_avg(quotes,p): # we define a fct called moving_avg\n",
    "    elements=list(range(p,len(quotes))) # define a vector from the element p to the last element\n",
    "    newlist=[] # define an empty list\n",
    "    for element in elements: # from the element p to the last one\n",
    "            mov_avg=sum(quotes[element-p:element])/p # the local average is equal to the local sum divided by p\n",
    "            newlist.append(round(mov_avg,2)) # add the newly calculated average to the newlist vector\n",
    "    return(newlist)\n",
    "\n",
    "print('Here are the Google quotes:')\n",
    "print(google_quotes)\n",
    "print('')\n",
    "print(f'The series has {len(google_quotes)} values')\n",
    "print('')\n",
    "movavg=moving_avg(google_quotes,p)\n",
    "print('here is my new moving average list:')\n",
    "print(movavg)\n",
    "print('')\n",
    "print(f'The series has {len(movavg)} values')\n",
    "print('')\n",
    "print('Give a look at how our MA series compares to the original Google Quotes series:')\n",
    "x1 = list(range(1,len(movavg)+1))\n",
    "plt.plot(x1, movavg)\n",
    "#plt.show()\n",
    "#print('')\n",
    "#print('this is how it compares to the Google quotes:')\n",
    "x2 = list(range(1,len(google_quotes)+1))\n",
    "plt.plot(x2, google_quotes)\n",
    "plt.show()"
   ]
  },
  {
   "cell_type": "markdown",
   "metadata": {},
   "source": [
    "We are now going to compute the mean squared error. Write a function that sums over the squared differences between the actual value and your moving-average-based forecast. This will help us determining the optimal number of lags for our secret investment strategy at the next step."
   ]
  },
  {
   "cell_type": "code",
   "execution_count": 30,
   "metadata": {
    "collapsed": false,
    "jupyter": {
     "outputs_hidden": false
    }
   },
   "outputs": [
    {
     "name": "stdout",
     "output_type": "stream",
     "text": [
      "First I cut the Google quotes from the 4th to the last value and the MA up to the 2nd-last value:\n",
      "[1484.4, 1485.95, 1486.65, 1466.71, 1433.9, 1452.56, 1458.63, 1455.84, 1434.23, 1485.94, 1447.07, 1448.23, 1476.23, 1479.23, 1508.68, 1508.79, 1518.27, 1514.66, 1520.74, 1519.67, 1526.69, 1518.15, 1485.11, 1421.59, 1388.45, 1393.18, 1318.09]\n",
      "\n",
      "Do they now have the same length?\n",
      "The quotes are 27\n",
      "The MA values are 26\n",
      "\n",
      "Now I compute the differences:\n",
      "[27.300000000000182, 13.789999999999964, 3.0700000000001637, -18.960000000000036, -45.86999999999989, -9.860000000000127, 7.570000000000164, 7.480000000000018, -21.450000000000045, 36.37000000000012, -11.600000000000136, -7.519999999999982, 15.819999999999936, 22.049999999999955, 40.77999999999997, 20.74000000000001, 19.36999999999989, 2.75, 6.829999999999927, 1.7799999999999727, 8.330000000000155, -4.2199999999998, -36.3900000000001, -88.3900000000001, -86.5, -38.539999999999964]\n",
      "\n",
      "Give a look to our error series:\n"
     ]
    },
    {
     "data": {
      "image/png": "[encoded data removed]",
      "text/plain": [
       "<Figure size 432x288 with 1 Axes>"
      ]
     },
     "metadata": {
      "needs_background": "light"
     },
     "output_type": "display_data"
    },
    {
     "name": "stdout",
     "output_type": "stream",
     "text": [
      "\n",
      "Now compute the squares\n",
      "[745.29000000001, 190.164099999999, 9.424900000001005, 359.4816000000014, 2104.05689999999, 97.21960000000252, 57.304900000002476, 55.95040000000027, 460.10250000000195, 1322.7769000000087, 134.56000000000316, 56.550399999999726, 250.272399999998, 486.202499999998, 1663.0083999999977, 430.14760000000035, 375.19689999999576, 7.5625, 46.648899999999, 3.168399999999903, 69.38890000000258, 17.80839999999831, 1324.2321000000072, 7812.792100000018, 7482.25, 1485.3315999999973]\n",
      "\n",
      "Now compute the mean\n",
      "1040.2651115384629\n",
      "Now compute the root\n",
      "32.25314111119199\n",
      "\n",
      "The RMSE is 32.25314111119199\n",
      "Or, more compactly:\n",
      "The RMSE computed via the compact formula is 32.25314111119199\n"
     ]
    }
   ],
   "source": [
    "print('First I cut the Google quotes from the 4th to the last value and the MA up to the 2nd-last value:')\n",
    "cut_google_quotes=google_quotes[p:-1]\n",
    "cut_movavg=movavg[0:-2]\n",
    "print(cut_google_quotes)\n",
    "print('')\n",
    "print('Do they now have the same length?')\n",
    "print(f'The quotes are {len(cut_google_quotes)}')\n",
    "print(f'The MA values are {len(cut_movavg)}')\n",
    "print('')\n",
    "print('Now I compute the differences:')\n",
    "\n",
    "list1=cut_google_quotes\n",
    "list2=cut_movavg\n",
    "\n",
    "def diff(list1,list2):\n",
    "    difference = []\n",
    "    zip_object = zip(list1, list2)\n",
    "    for list1_i, list2_i in zip_object:\n",
    "        difference.append(list1_i-list2_i)\n",
    "    return difference\n",
    "        \n",
    "error=diff(list1,list2)\n",
    "print(error)\n",
    "print('')\n",
    "print('Give a look to our error series:')\n",
    "\n",
    "x = list(range(1,len(error)+1))\n",
    "plt.plot(x, error)\n",
    "plt.show()\n",
    "print('')\n",
    "\n",
    "def square(list):\n",
    "    return [i**2 for i in list]\n",
    "        \n",
    "print('Now compute the squares')\n",
    "sq_err=square(error)\n",
    "print(sq_err)\n",
    "print('')\n",
    "\n",
    "print('Now compute the mean')\n",
    "mse=my_mean(sq_err)\n",
    "print(mse)\n",
    "\n",
    "print('Now compute the root')\n",
    "import math  \n",
    "rmse=math.sqrt(mse)\n",
    "print(rmse)\n",
    "print('')\n",
    "\n",
    "print(f'The RMSE is {rmse}')\n",
    "\n",
    "print('Or, more compactly:')\n",
    "rmse=math.sqrt(my_mean(square(error)))\n",
    "print(f'The RMSE computed via the compact formula is {rmse}')\n",
    "\n"
   ]
  },
  {
   "cell_type": "markdown",
   "metadata": {},
   "source": [
    "Our masterplan to get rich is getting together nicely...\n",
    "\n",
    "[coming_together](https://i1.wp.com/media1.tenor.com/images/a71c94c3aa7ad66a5051f81f48d14dd2/tenor.gif?w=688&ssl=1)\n",
    "\n",
    "The last step before creating the actual investement strategy: we are going to evaluate which lag produces the smallest mean square error. For that, create a function that loops over the range between 2 and 6 and return the optimal lag (the one with the smallest MSE)."
   ]
  },
  {
   "cell_type": "code",
   "execution_count": 31,
   "metadata": {
    "collapsed": false,
    "jupyter": {
     "outputs_hidden": false
    }
   },
   "outputs": [],
   "source": [
    "# here we define the function\n",
    "\n",
    "def compute_rmse(quotes,p):\n",
    "    movavg=moving_avg(quotes,p)\n",
    "    #x1 = list(range(1,len(movavg)+1))\n",
    "    #plt.plot(x1, movavg)\n",
    "    cut_series=quotes[p:-1]\n",
    "    cut_movavg=movavg[0:-2]      \n",
    "    error=diff(cut_series,cut_movavg)\n",
    "    rmse=math.sqrt(my_mean(square(error)))\n",
    "    return(rmse)\n",
    "\n"
   ]
  },
  {
   "cell_type": "code",
   "execution_count": 32,
   "metadata": {},
   "outputs": [
    {
     "name": "stdout",
     "output_type": "stream",
     "text": [
      "For 2 lags, the RMSE is 282.8047500674525\n",
      "For 3 lags, the RMSE is 289.4211736220083\n",
      "For 4 lags, the RMSE is 295.8266204539929\n",
      "For 5 lags, the RMSE is 302.2225339513915\n",
      "For 6 lags, the RMSE is 304.733442679828\n",
      "\n",
      "The minimum RMSE is 282.8047500674525\n",
      "The optimal number of lags is 2\n"
     ]
    }
   ],
   "source": [
    "# here we run the loopy loop\n",
    "\n",
    "stored_rmse=[]\n",
    "\n",
    "for i in range(2,7):\n",
    "    \n",
    "    rmse=compute_rmse(google_quotes,i)\n",
    "    print(f'For {i} lags, the RMSE is {rmse}')\n",
    "    stored_rmse.append(rmse)\n",
    "\n",
    "min_rmse=min(stored_rmse)\n",
    "print('')\n",
    "print(f'The minimum RMSE is {min_rmse}')\n",
    "\n",
    "opt_lag=2\n",
    "for i in range(3,7):\n",
    "    if stored_rmse[i-2]<stored_rmse[opt_lag-2]:\n",
    "        opt_lag=i\n",
    "print(f'The optimal number of lags is {opt_lag}')\n",
    "\n"
   ]
  },
  {
   "cell_type": "markdown",
   "metadata": {},
   "source": [
    "We are now going to devise an incredibly dumb investment strategy: if your moving-average prediction (with the optimal lag - see, we are already [double-dipping](https://en.wikipedia.org/wiki/Circular_analysis) in the data...) is higher than the current price on a day, we invest all our accrued fortune (if we currently had no stock) or hold (if we had already some value invested), if the prediction is below, we sell our whole position (or do nothing if we had no money invested at the time).\n",
    "\n",
    "How much would we have today if we had started using this strategy on February 3rd and started out with 100 Euros?\n",
    "\n",
    "This is a significantly more complex problem than the ones above and you might want to split it into subproblems (for example, a good idea could be to devise a function that takes two values and returns the variation between those). There are many ways to solve it, find the one that makes more sense to you. The result should be the same for everyone, though."
   ]
  },
  {
   "cell_type": "code",
   "execution_count": 34,
   "metadata": {
    "collapsed": false,
    "jupyter": {
     "outputs_hidden": false
    }
   },
   "outputs": [
    {
     "name": "stdout",
     "output_type": "stream",
     "text": [
      "The quote series length is 31\n",
      "The MA series length is 30\n",
      "\n",
      "Let us cut 1 observation(s) from the quotes\n",
      "OK, now the quote length is 30\n",
      "\n",
      "The performance vector has 29 elements\n",
      "\n",
      "Let us cut 1 observation(s) from the quotes and the dates\n",
      "\n",
      "OK, now the quote length is 29\n",
      "\n",
      "Now compute the daily performance\n",
      "...\n",
      "Done!\n",
      "\n",
      "Perfect! Now let us analyse the optimal buy/sell decisions\n",
      "\n",
      "On 2020-02-03, the quote is 1447.07 and the MA is 1445.03. Δ is -2.04.\n",
      "We sell/stay cash. The capital stock value is 100$.\n",
      "\n",
      "On 2020-02-04, the quote is 1448.23 and the MA is 1460.09. Δ is +11.86.\n",
      "We buy/hold. The capital stock value is 100.08$.\n",
      "\n",
      "On 2020-02-05, the quote is 1476.23 and the MA is 1466.51. Δ is -9.72.\n",
      "We sell/stay cash. The capital stock value is 100.08$.\n",
      "\n",
      "On 2020-02-06, the quote is 1479.23 and the MA is 1447.65. Δ is -31.58.\n",
      "We sell/stay cash. The capital stock value is 100.08$.\n",
      "\n",
      "On 2020-02-07, the quote is 1508.68 and the MA is 1462.23. Δ is -46.45.\n",
      "We sell/stay cash. The capital stock value is 100.08$.\n",
      "\n",
      "On 2020-02-10, the quote is 1508.79 and the MA is 1477.73. Δ is -31.06.\n",
      "We sell/stay cash. The capital stock value is 100.08$.\n",
      "\n",
      "On 2020-02-11, the quote is 1518.27 and the MA is 1493.95. Δ is -24.32.\n",
      "We sell/stay cash. The capital stock value is 100.08$.\n",
      "\n",
      "On 2020-02-12, the quote is 1514.66 and the MA is 1508.74. Δ is -5.92.\n",
      "We sell/stay cash. The capital stock value is 100.08$.\n",
      "\n",
      "On 2020-02-13, the quote is 1520.74 and the MA is 1513.53. Δ is -7.21.\n",
      "We sell/stay cash. The capital stock value is 100.08$.\n",
      "\n",
      "On 2020-02-14, the quote is 1519.67 and the MA is 1516.47. Δ is -3.2.\n",
      "We sell/stay cash. The capital stock value is 100.08$.\n",
      "\n",
      "On 2020-02-18, the quote is 1526.69 and the MA is 1517.7. Δ is -8.99.\n",
      "We sell/stay cash. The capital stock value is 100.08$.\n",
      "\n",
      "On 2020-02-19, the quote is 1518.15 and the MA is 1520.2. Δ is +2.05.\n",
      "We buy/hold. The capital stock value is 99.52$.\n",
      "\n",
      "On 2020-02-20, the quote is 1485.11 and the MA is 1523.18. Δ is +38.07.\n",
      "We buy/hold. The capital stock value is 97.35$.\n",
      "\n",
      "On 2020-02-21, the quote is 1421.59 and the MA is 1522.42. Δ is +100.83.\n",
      "We buy/hold. The capital stock value is 93.18$.\n",
      "\n",
      "On 2020-02-24, the quote is 1388.45 and the MA is 1501.63. Δ is +113.18.\n",
      "We buy/hold. The capital stock value is 91.01$.\n",
      "\n",
      "On 2020-02-25, the quote is 1393.18 and the MA is 1453.35. Δ is +60.17.\n",
      "We buy/hold. The capital stock value is 91.32$.\n",
      "\n",
      "On 2020-02-26, the quote is 1318.09 and the MA is 1405.02. Δ is +86.93.\n",
      "We buy/hold. The capital stock value is 86.4$.\n",
      "\n",
      "On 2020-02-27, the quote is 1339.33 and the MA is 1390.82. Δ is +51.49.\n",
      "We buy/hold. The capital stock value is 87.79$.\n",
      "\n",
      "The final level of capital is 87.79$\n"
     ]
    }
   ],
   "source": [
    "dates=stock_quotes[\"GOOG\"][\"dates\"]\n",
    "quotes=stock_quotes[\"GOOG\"][\"quotes\"]\n",
    "\n",
    "capital=100\n",
    "p=2\n",
    "\n",
    "prediction=moving_avg(quotes,p)\n",
    "start=12\n",
    "\n",
    "print(f'The quote series length is {len(quotes)}')\n",
    "print(f'The MA series length is {len(prediction)}')\n",
    "print('')\n",
    "diff=len(quotes)-len(prediction)\n",
    "print(f'Let us cut {diff} observation(s) from the quotes')\n",
    "quotes=quotes[diff:len(quotes)]\n",
    "print(f'OK, now the quote length is {len(quotes)}')\n",
    "print('')\n",
    "  \n",
    "T=len(quotes)\n",
    "performance=[]\n",
    "\n",
    "for i in range(1,T):\n",
    "    perf=100*(quotes[i]-quotes[i-1])/quotes[i-1]\n",
    "    performance.append(round(perf,2))\n",
    "\n",
    "print(f'The performance vector has {len(performance)} elements')\n",
    "print('')\n",
    "diff=len(quotes)-len(performance)\n",
    "\n",
    "print(f'Let us cut {diff} observation(s) from the quotes and the dates')\n",
    "print('')\n",
    "quotes=quotes[diff:len(quotes)]\n",
    "dates=dates[diff:len(dates)]\n",
    "print(f'OK, now the quote length is {len(quotes)}')\n",
    "print('')\n",
    "print('Now compute the daily performance')\n",
    "print('...')\n",
    "print('Done!')\n",
    "print('')\n",
    "#performance=performance[0:T]\n",
    "#print('Google performance in the available days is:')\n",
    "#print(performance)\n",
    "#print('')\n",
    "#print('Here we track the evolution of the capital stock:')\n",
    "print('Perfect! Now let us analyse the optimal buy/sell decisions')\n",
    "print('')\n",
    "for i in range(start-1,len(performance)):\n",
    "    \n",
    "    if prediction[i]>quotes[i]:\n",
    "        capital=capital*(1+performance[i]/100)\n",
    "        print(f'On {dates[i]}, the quote is {quotes[i]} and the MA is {prediction[i]}. Δ is +{round(prediction[i]-quotes[i],2)}.')\n",
    "        print(f'We buy/hold. The capital stock value is {round(capital,2)}$.')\n",
    "        print('')\n",
    "    else:\n",
    "        print(f'On {dates[i]}, the quote is {quotes[i]} and the MA is {prediction[i]}. Δ is -{round(quotes[i]-prediction[i],2)}.')\n",
    "        print(f'We sell/stay cash. The capital stock value is {round(capital,2)}$.')\n",
    "        print('')\n",
    "print(f'The final level of capital is {round(capital,2)}$')\n"
   ]
  },
  {
   "cell_type": "markdown",
   "metadata": {},
   "source": [
    "## Get rich (fast) or code tryin'"
   ]
  },
  {
   "cell_type": "markdown",
   "metadata": {},
   "source": [
    "The last step for today is to assess how much we will make in the near future. For this, we will use a small, non-parametric Monte-Carlo simulation.\n",
    "\n",
    "![monte_carlo](http://www.azquotes.com/picture-quotes/quote-in-mathematics-as-in-physics-so-much-depends-on-chance-on-a-propitious-moment-stanislaw-ulam-111-21-35.jpg)\n",
    "\n",
    "Here's how it will go: we are going to reuse the function that simulates the performance of our stupid investment strategy but on simulated data that will be produced in the following way: we are going to simulate 20 periods of data by resampling at random the past prices. This can be done using the function [random.choices(population, weights=None, \\*, cum_weights=None, k=1)](https://docs.python.org/3/library/random.html#random.choices): We are going to produce a list containing all the price variations of the quote. We then are going to produce a list of 20 values between 0 and the length of the list we just create and use those as variations over the next 20 days. We test our investment strategy again this \"future reality\" as if we started today with 100 Euros and the result is the final value we would have after 20 days. We have one potential result that we store in a list, called *results*. We repeat the process 5000 times (you can do it less time if your computer is rather slow). In the end, we will end up with 5000 potential results of our investment strategy over the 20 next days. I'll write the function that plots the distribution so that we can see visually what we can expect.\n",
    "\n",
    "Again, this whole procedure will probably require several functions. Try to break down the problem in a sequence of intermediate steps."
   ]
  },
  {
   "cell_type": "code",
   "execution_count": 42,
   "metadata": {
    "collapsed": false,
    "jupyter": {
     "outputs_hidden": false
    }
   },
   "outputs": [
    {
     "name": "stdout",
     "output_type": "stream",
     "text": [
      "Currently the quote series is 31 days long.\n",
      "\n",
      "No problem, let us cut it.\n",
      "\n",
      "OK, now the quote series is 20 days long.\n",
      "\n",
      "Fantastic! 5000 iterations are reached!\n",
      "\n",
      "The result vector has 5000 observations\n",
      "Average capital after 20 days is 100.25\n"
     ]
    }
   ],
   "source": [
    "import random\n",
    "quotes=stock_quotes[\"GOOG\"][\"quotes\"]\n",
    "p=2\n",
    "T=20-2\n",
    "\n",
    "print(f'Currently the quote series is {len(quotes)} days long.')\n",
    "print('')\n",
    "print('No problem, let us cut it.')\n",
    "quotes=quotes[(len(quotes)-p-T):len(quotes)]\n",
    "print('')\n",
    "print(f'OK, now the quote series is {len(quotes)} days long.')\n",
    "\n",
    "iter=0\n",
    "results=[]\n",
    "\n",
    "while iter<5000:    \n",
    "    \n",
    "    # Monte Carlo simulation\n",
    "    simul_vector=random.choices(quotes, weights=None, cum_weights=None, k=23)\n",
    "    \n",
    "    # computing MA\n",
    "    prediction=moving_avg(simul_vector,p)\n",
    "    diff=len(simul_vector)-len(prediction)\n",
    "    simul_vector=simul_vector[diff:len(simul_vector)]\n",
    "    \n",
    "    # compute performance\n",
    "    performance=[]\n",
    "    for i in range(1,len(simul_vector)):\n",
    "        perf=100*(simul_vector[i]-simul_vector[i-1])/simul_vector[i-1]\n",
    "        performance.append(round(perf,2))\n",
    "\n",
    "    # cut data\n",
    "    diff=len(quotes)-len(performance)\n",
    "    quotes=quotes[diff:len(quotes)]\n",
    "    dates=dates[diff:len(dates)]\n",
    "    \n",
    "    # compute capital variation\n",
    "    capital=100\n",
    "    for i in range(start-1,len(performance)):\n",
    "        if prediction[i]>quotes[i]:\n",
    "            capital=capital*(1+performance[i]/100)\n",
    "    results.append(capital)\n",
    "    iter=iter+1\n",
    "\n",
    "print('')\n",
    "print(f'Fantastic! {iter} iterations are reached!')\n",
    "print('')\n",
    "print(f'The result vector has {len(results)} observations')\n",
    "print(f'Average capital after 20 days is {round(my_mean(results),2)}')"
   ]
  },
  {
   "cell_type": "markdown",
   "metadata": {},
   "source": [
    "The next cell will represent the distribution of your profits, only execute it once you have your 5000 results in the variable *results*."
   ]
  },
  {
   "cell_type": "code",
   "execution_count": 43,
   "metadata": {
    "collapsed": false,
    "jupyter": {
     "outputs_hidden": false
    }
   },
   "outputs": [
    {
     "data": {
      "text/plain": [
       "<matplotlib.axes._subplots.AxesSubplot at 0x1a17d490d0>"
      ]
     },
     "execution_count": 43,
     "metadata": {},
     "output_type": "execute_result"
    },
    {
     "data": {
      "image/png": "[encoded data removed]",
      "text/plain": [
       "<Figure size 432x288 with 1 Axes>"
      ]
     },
     "metadata": {
      "needs_background": "light"
     },
     "output_type": "display_data"
    }
   ],
   "source": [
    "import seaborn as sns\n",
    "\n",
    "sns.distplot(results)"
   ]
  },
  {
   "cell_type": "code",
   "execution_count": null,
   "metadata": {},
   "outputs": [],
   "source": []
  }
 ],
 "metadata": {
  "kernelspec": {
   "display_name": "Python 3",
   "language": "python",
   "name": "python3"
  },
  "language_info": {
   "codemirror_mode": {
    "name": "ipython",
    "version": 3
   },
   "file_extension": ".py",
   "mimetype": "text/x-python",
   "name": "python",
   "nbconvert_exporter": "python",
   "pygments_lexer": "ipython3",
   "version": "3.7.4"
  },
  "name": "exercises_4.ipynb"
 },
 "nbformat": 4,
 "nbformat_minor": 4
}
